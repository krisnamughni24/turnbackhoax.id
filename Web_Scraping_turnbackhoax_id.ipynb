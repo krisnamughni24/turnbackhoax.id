{
  "nbformat": 4,
  "nbformat_minor": 0,
  "metadata": {
    "colab": {
      "provenance": []
    },
    "kernelspec": {
      "name": "python3",
      "display_name": "Python 3"
    },
    "language_info": {
      "name": "python"
    }
  },
  "cells": [
    {
      "cell_type": "code",
      "execution_count": null,
      "metadata": {
        "colab": {
          "base_uri": "https://localhost:8080/"
        },
        "id": "-pxgd7CB3a--",
        "outputId": "caa6971e-1a99-4a50-c8f3-302e3437e0b0"
      },
      "outputs": [
        {
          "output_type": "stream",
          "name": "stdout",
          "text": [
            "Looking in indexes: https://pypi.org/simple, https://us-python.pkg.dev/colab-wheels/public/simple/\n",
            "Requirement already satisfied: requests in /usr/local/lib/python3.10/dist-packages (2.27.1)\n",
            "Requirement already satisfied: beautifulsoup4 in /usr/local/lib/python3.10/dist-packages (4.11.2)\n",
            "Requirement already satisfied: urllib3<1.27,>=1.21.1 in /usr/local/lib/python3.10/dist-packages (from requests) (1.26.15)\n",
            "Requirement already satisfied: certifi>=2017.4.17 in /usr/local/lib/python3.10/dist-packages (from requests) (2022.12.7)\n",
            "Requirement already satisfied: charset-normalizer~=2.0.0 in /usr/local/lib/python3.10/dist-packages (from requests) (2.0.12)\n",
            "Requirement already satisfied: idna<4,>=2.5 in /usr/local/lib/python3.10/dist-packages (from requests) (3.4)\n",
            "Requirement already satisfied: soupsieve>1.2 in /usr/local/lib/python3.10/dist-packages (from beautifulsoup4) (2.4.1)\n"
          ]
        }
      ],
      "source": [
        "!pip install requests beautifulsoup4"
      ]
    },
    {
      "cell_type": "code",
      "source": [
        "import requests\n",
        "import json\n",
        "import csv\n",
        "from bs4 import BeautifulSoup\n",
        "from datetime import datetime\n",
        "import string\n",
        "import re"
      ],
      "metadata": {
        "id": "KYpvLa1Z3dso"
      },
      "execution_count": null,
      "outputs": []
    },
    {
      "cell_type": "markdown",
      "source": [
        "# turnbackhoax.id"
      ],
      "metadata": {
        "id": "Cnd1RDZ9Xf4f"
      }
    },
    {
      "cell_type": "code",
      "source": [
        "def scrape_turnbackhoax():\n",
        "    url = 'https://turnbackhoax.id/wp-json/wp/v2/posts'\n",
        "    response = requests.get(url)\n",
        "    data = response.json()\n",
        "    \n",
        "    dataset = []\n",
        "    for item in data:\n",
        "        label = 'SALAH'\n",
        "        headline = item['title']['rendered'].replace('[SALAH]', '').strip()\n",
        "        body_html = item['content']['rendered']\n",
        "        \n",
        "        soup = BeautifulSoup(body_html, 'html.parser')\n",
        "        body = soup.get_text()\n",
        "        \n",
        "        dataset.append({'label': label, 'Headline': headline, 'Body': body})\n",
        "    \n",
        "    return dataset\n",
        "\n",
        "def clean_text(text):\n",
        "    # Remove Unicode decimal codes\n",
        "    text = re.sub(r'&#\\d+;', '', text)\n",
        "    \n",
        "    # Remove URLs\n",
        "    text = re.sub(r'http\\S+', '', text)\n",
        "    \n",
        "    # Remove special characters and symbols\n",
        "    text = re.sub(r'[^\\w\\s]', '', text)\n",
        "    \n",
        "    # Remove extra whitespaces\n",
        "    text = re.sub(r'\\s+', ' ', text)\n",
        "    \n",
        "    # Convert text to lowercase\n",
        "    text = text.lower()\n",
        "    \n",
        "    return text\n",
        "\n",
        "def save_to_csv(dataset):\n",
        "    now = datetime.now()\n",
        "    timestamp = now.strftime('%Y-%m-%d_%H-%M-%S')\n",
        "    filename = f'turnbackhoax_dataset_{timestamp}.csv'\n",
        "    with open(filename, 'w', newline='', encoding='utf-8') as file:\n",
        "        writer = csv.DictWriter(file, fieldnames=['label', 'Headline', 'Body'])\n",
        "        writer.writeheader()\n",
        "        \n",
        "        cleaned_dataset = []\n",
        "        for data in dataset:\n",
        "            cleaned_data = {\n",
        "                'label': data['label'],\n",
        "                'Headline': clean_text(data['Headline']),\n",
        "                'Body': clean_text(data['Body'])\n",
        "            }\n",
        "            cleaned_dataset.append(cleaned_data)\n",
        "        \n",
        "        writer.writerows(cleaned_dataset)\n",
        "    \n",
        "    print('Data saved to', filename)\n",
        "\n",
        "# Scrape data from turnbackhoax.id\n",
        "all_data = []\n",
        "for _ in range(10): #mau berapa data yg di scrap?\n",
        "    data = scrape_turnbackhoax()\n",
        "    all_data.extend(data)\n",
        "\n",
        "# Save data to CSV file\n",
        "save_to_csv(all_data)"
      ],
      "metadata": {
        "colab": {
          "base_uri": "https://localhost:8080/"
        },
        "id": "jk7rdvbMejA1",
        "outputId": "23ab19d9-0776-4534-be44-0d57765d5695"
      },
      "execution_count": null,
      "outputs": [
        {
          "output_type": "stream",
          "name": "stdout",
          "text": [
            "Data saved to turnbackhoax_dataset_2023-05-18_06-32-08.csv\n"
          ]
        }
      ]
    }
  ]
}