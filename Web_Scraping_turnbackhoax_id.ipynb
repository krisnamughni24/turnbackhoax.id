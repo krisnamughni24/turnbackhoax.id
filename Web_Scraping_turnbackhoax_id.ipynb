{
  "nbformat": 4,
  "nbformat_minor": 0,
  "metadata": {
    "colab": {
      "provenance": []
    },
    "kernelspec": {
      "name": "python3",
      "display_name": "Python 3"
    },
    "language_info": {
      "name": "python"
    }
  },
  "cells": [
    {
      "cell_type": "code",
      "execution_count": 1,
      "metadata": {
        "colab": {
          "base_uri": "https://localhost:8080/"
        },
        "id": "-pxgd7CB3a--",
        "outputId": "d16634e5-08c0-4ede-b444-1ea7cf1715c4"
      },
      "outputs": [
        {
          "output_type": "stream",
          "name": "stdout",
          "text": [
            "Looking in indexes: https://pypi.org/simple, https://us-python.pkg.dev/colab-wheels/public/simple/\n",
            "Requirement already satisfied: requests in /usr/local/lib/python3.10/dist-packages (2.27.1)\n",
            "Requirement already satisfied: beautifulsoup4 in /usr/local/lib/python3.10/dist-packages (4.11.2)\n",
            "Requirement already satisfied: urllib3<1.27,>=1.21.1 in /usr/local/lib/python3.10/dist-packages (from requests) (1.26.15)\n",
            "Requirement already satisfied: certifi>=2017.4.17 in /usr/local/lib/python3.10/dist-packages (from requests) (2022.12.7)\n",
            "Requirement already satisfied: charset-normalizer~=2.0.0 in /usr/local/lib/python3.10/dist-packages (from requests) (2.0.12)\n",
            "Requirement already satisfied: idna<4,>=2.5 in /usr/local/lib/python3.10/dist-packages (from requests) (3.4)\n",
            "Requirement already satisfied: soupsieve>1.2 in /usr/local/lib/python3.10/dist-packages (from beautifulsoup4) (2.4.1)\n"
          ]
        }
      ],
      "source": [
        "!pip install requests beautifulsoup4"
      ]
    },
    {
      "cell_type": "code",
      "source": [
        "import requests\n",
        "import json\n",
        "import csv\n",
        "import string\n",
        "import re\n",
        "import pandas as pd\n",
        "import os\n",
        "import unicodedata\n",
        "from bs4 import BeautifulSoup\n",
        "from datetime import datetime"
      ],
      "metadata": {
        "id": "KYpvLa1Z3dso"
      },
      "execution_count": 2,
      "outputs": []
    },
    {
      "cell_type": "markdown",
      "source": [
        "# turnbackhoax.id"
      ],
      "metadata": {
        "id": "Cnd1RDZ9Xf4f"
      }
    },
    {
      "cell_type": "code",
      "source": [
        "# Fungsi untuk membersihkan data\n",
        "def clean_data(text):\n",
        "    cleaned_text = text.replace(\"\\n\", \"\").replace(\"\\r\", \"\")\n",
        "    return cleaned_text\n",
        "\n",
        "# Inisialisasi list untuk menyimpan data\n",
        "titles = []\n",
        "contents = []\n",
        "urls = []\n",
        "\n",
        "# Loop melalui halaman-halaman\n",
        "for i in range(1, 541):\n",
        "    link = requests.get(\"https://turnbackhoax.id/page/{}\".format(i))\n",
        "    soup = BeautifulSoup(link.text, \"html.parser\")\n",
        "    for title, content_url in zip(soup.select('.mh-loop-content h3>a'), soup.select('.mh-loop-content h3>a')):\n",
        "        title_text = clean_data(title.text.strip())\n",
        "        content_link = content_url['href']\n",
        "\n",
        "        # Mengakses halaman konten\n",
        "        content_page = requests.get(content_link)\n",
        "        content_soup = BeautifulSoup(content_page.text, \"html.parser\")\n",
        "        content_text = clean_data(content_soup.select_one('.entry-content').text.strip())\n",
        "\n",
        "        titles.append(title_text)\n",
        "        contents.append(content_text)\n",
        "        urls.append(content_link)\n",
        "\n",
        "# Membuat DataFrame\n",
        "df = pd.DataFrame({\"Title\": titles, \"Content\": contents, \"URL\": urls})\n",
        "\n",
        "# Membersihkan data\n",
        "df['Title'] = df['Title'].apply(clean_data)\n",
        "df['Content'] = df['Content'].apply(clean_data)\n",
        "\n",
        "# Menambahkan kolom label\n",
        "df['Label'] = 'HOAX'\n",
        "\n",
        "# Mendapatkan timestamp saat ini\n",
        "timestamp = datetime.now().strftime(\"%Y%m%d%H%M%S\")\n",
        "\n",
        "# Menyimpan DataFrame ke file CSV dengan nama timestamp.csv\n",
        "filename = f\"data_{timestamp}.csv\"\n",
        "df.to_csv(filename, index=False, quoting=csv.QUOTE_NONNUMERIC, encoding='utf-8')\n",
        "\n",
        "print(\"Data telah disimpan dalam file:\", filename)"
      ],
      "metadata": {
        "id": "eF-gBvpy_zNk"
      },
      "execution_count": null,
      "outputs": []
    }
  ]
}